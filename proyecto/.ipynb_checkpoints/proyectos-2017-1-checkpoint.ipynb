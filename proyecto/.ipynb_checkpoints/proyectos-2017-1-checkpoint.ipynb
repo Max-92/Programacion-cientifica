{
 "cells": [
  {
   "cell_type": "markdown",
   "metadata": {},
   "source": [
    "<h1 align=\"center\">Programación Científica en Python</h1>\n",
    "<h2 align=\"center\">Descripción de Proyectos</h2> \n",
    "<h2 align=\"center\">Por: Maximiliano Bombin Sanhueza</h2> \n",
    "<h2 align=\"center\">Rol: 201104308-1</h2> \n"
   ]
  },
  {
   "cell_type": "markdown",
   "metadata": {},
   "source": [
    "Para los proyectos descritos a continuación, los tres componentes siguientes serán evaluados con igual ponderación:\n",
    "\n",
    "1. __Implementación__: Código generado para la implementación, usando _algunas_ de las herramientas aprendidas en este curso.\n",
    "2. __Profiling__: Mediciones de la _performance_ de su solución al problema.\n",
    "3. __Visualización__: Visualización de los resultados utilizando `Matplotlib`.\n",
    "\n",
    "En cualquier caso usted es libre de diseñar los _experimentos_, _mediciones de performance_ y de los _resultados y gráficos_ a mostrar."
   ]
  },
  {
   "cell_type": "markdown",
   "metadata": {},
   "source": [
    "## 1.- Cellular Automaton: Conway's Game of Life\n",
    "\n",
    "El _Juego de la Vida_ es una aplicación de autómatas celulares (conjunto de reglas), para simular la formación de patrones en el crecimiento de colonias de organismos biológicos.\n",
    "\n",
    "\n",
    "Este juego se representa por medio de un arreglo bi-dimensional de __células vivas__ y __células muertas__. Las reglas para pasar de una generación a la otras son las siguientes (_Existen diferentes variaciones, pero estas son las más comunes_):\n",
    "\n",
    "* __Sobrepoblación__: Si una célula viva es rodeada por más de tres células vivas, muere.\n",
    "* __Estasis__: Si una célula viva es rodeada por dos o tres células vivas, sobrevive.\n",
    "* __Subpoblación__: Si una célula viva es rodeada por menos de dos células vivas, muere.\n",
    "* __Reproduction__: Si una célula muerta es rodeada por exáctamente tres células vivas, esta se vuelve una célula viva.\n",
    "\n",
    "Aquí cada célula es representada como un píxel en una grilla/arreglo bi-dimensional.\n",
    "\n",
    "Para más información visitar los siguientes links:\n",
    "* [https://en.wikipedia.org/wiki/Conway%27s_Game_of_Life](https://en.wikipedia.org/wiki/Conway%27s_Game_of_Life)\n",
    "* [https://jakevdp.github.io/blog/2013/08/07/conways-game-of-life/](https://jakevdp.github.io/blog/2013/08/07/conways-game-of-life/)\n",
    "* [https://bitstorm.org/gameoflife/](https://bitstorm.org/gameoflife/)"
   ]
  },
  {
   "cell_type": "markdown",
   "metadata": {},
   "source": [
    "## 2.- Dynamic Systems: N-body Simulation\n",
    "\n",
    "Este consiste en la simulación numérica de un sistem de N EDOs (Ecuaciones Diferenciales Ordinarias), que representan la dinámica de movimiento de un sistema de N partículas interactuando entre sí, como por ejemplo, en la interacción gravitacional de planetas y estrellas.\n",
    "\n",
    "Sean un conjunto de $N$ cuerpos con masas $\\{m_1, m_2, \\ldots, m_N \\}$, posiciones (2D) $\\{\\mathbf{x_1}, \\mathbf{x_2}, \\ldots, \\mathbf{x_N} \\}$ y velocidades $\\{\\mathbf{v_1}, \\mathbf{v_2}, \\ldots, \\mathbf{v_N}\\}$, que interactúan gravitacionalmente de acuerdo a la __Ley de Gravitación Universal__:\n",
    "$$\n",
    "    \\mathbf{F_{ij}} = G \\frac{m_i m_j}{|| \\mathbf{x_j} - \\mathbf{x_i} ||^3}(\\mathbf{x_j} - \\mathbf{x_i}),\n",
    "$$\n",
    "correspondiente a la fuerza ejercida __sobre__ el cuerpo `i`, __por__ el cuerpo `j`. Entonces la dinámica del sistema viene descrita por la siguiente ecuación de movimiento (2da Ley de Newton):\n",
    "$$\n",
    "    m_i \\frac{d}{dt} \\mathbf{v_i} = m_i \\frac{d^2}{dt^2}\\mathbf{x_i} = \\sum_{j\\neq i}^{N} \\mathbf{F_{ij}} = \\sum_{j \\neq i}^{N} G \\frac{m_i m_j}{|| \\mathbf{x_j} - \\mathbf{x_i} ||^3}(\\mathbf{x_j} - \\mathbf{x_i})\n",
    "$$\n",
    "\n",
    "Para el caso 2D: $\\mathbf{x_i} = (x_i, y_j)$, $\\mathbf{v_i} = (v_{x_i}, v_{y_i})$ y las ecuaciones que describen el movimiento quedan:\n",
    "$$\n",
    "  \\frac{d^2}{dt^2}x_i = \\frac{d}{dt}v_{x_i} = G \\ \\sum_{j\\neq i}^{N}\\frac{m_j}{(x_j-x_i)^2} = H(x_i)\n",
    "$$\n",
    "\n",
    "$$  \n",
    "  \\frac{d^2}{dt^2}y_i = \\frac{d}{dt}v_{y_i} = G \\ \\sum_{j\\neq i}^{N}\\frac{m_j}{(y_j-y_i)^2} = H(y_i)\n",
    "$$\n",
    "\n",
    "Se requiere resolver __numéricamente__ la EDO para cada partícula del sistema. Para ello en cada componente de $\\mathbf{x_i}$ y $\\mathbf{v_i}$, se utiliza el método de Euler del siguiente modo ($\\Delta t$ _time step_ y $k$ número de iteración):\n",
    "$$\n",
    "\\Rightarrow v_{x_i}^{(k+1)} = H(x_i^{(k)}) \\Delta t + v_{x_i}^{(k)} \n",
    "$$\n",
    "$$\n",
    "x_i^{(k+1)} = v_{x_i}^{(k+1)} \\Delta t + x_i^{(k)} \n",
    "$$\n",
    "\n",
    "\n",
    "$$\n",
    "\\Rightarrow v_{y_i}^{(k+1)} = H(y_i^{(k)}) \\Delta t + v_{y_i}^{(k)}\n",
    "$$\n",
    "$$\n",
    "y_i^{(k+1)} = v_{y_i}^{(k+1)} \\Delta t + y_i^{(k)}\n",
    "$$\n",
    "  \n",
    "(Primero se actualiza la velocidad, luego la posición). Estas dos iteraciones deben llevarse a cabo para todas las partículas del sistema, partiendo de condiciones iniciales $(x_i^0, y_i^0)$ y $(v_{x_i}^0, v_{y_i}^0)$ para todas las partículas."
   ]
  },
  {
   "cell_type": "code",
   "execution_count": 1,
   "metadata": {
    "collapsed": true
   },
   "outputs": [],
   "source": [
    "#FUNCIONES\n",
    "\n",
    "%load_ext line_profiler\n",
    "\n",
    "import numpy as np\n",
    "import matplotlib.pyplot as plt\n",
    "import numba\n",
    "import base64\n",
    "\n",
    "from ipywidgets import widgets\n",
    "\n",
    "\n",
    "#Función \"H\"\n",
    "def H(componente_posicion, componente_posiciones, masas):\n",
    "    G = 6.67300e-11\n",
    "    suma = 0\n",
    "    \n",
    "    for i in range(len(componente_posiciones)):\n",
    "        \n",
    "        if (componente_posiciones[i] != componente_posicion):\n",
    "            suma += masas[i]/((componente_posiciones[i] - componente_posicion)**2)\n",
    "    \n",
    "    return G*suma\n",
    "\n",
    "\n",
    "\n",
    "#Euler\n",
    "def euler(H, x_posiciones, y_posiciones, x_velocidades, y_velocidades, masas, dt, k):\n",
    "    historia_total = []\n",
    "    \n",
    "    for i in range(len(x_posiciones)):\n",
    "        historia_de_posiciones_particula= []\n",
    "        \n",
    "        pos_x = x_posiciones[i]\n",
    "        pos_y = y_posiciones[i]\n",
    "        \n",
    "        v_x = x_velocidades[i]\n",
    "        v_y = y_velocidades[i]\n",
    "        \n",
    "        historia_de_posiciones_particula.append([pos_x,pos_y])\n",
    "        \n",
    "        for j in range(k):\n",
    "            v_x = v_x + dt * H(pos_x, x_posiciones, masas)\n",
    "            v_y = v_y + dt * H(pos_y, y_posiciones, masas)\n",
    "            \n",
    "            pos_x = pos_x + dt * v_x\n",
    "            pos_y = pos_y + dt * v_y\n",
    "            \n",
    "            historia_de_posiciones_particula.append([pos_x,pos_y])\n",
    "        \n",
    "        historia_total.append(historia_de_posiciones_particula)\n",
    "    \n",
    "    return np.array(historia_total)\n",
    "\n",
    "\n",
    "#Funcion de Graficado\n",
    "def graficar(historia_del_sistema, tf):\n",
    "    plt.figure(figsize=(7,6))\n",
    "    plt.xlim(int(np.amin(historia_del_sistema[:,:,0]))-1,int(np.amax(historia_del_sistema[:,:,0]))+1)\n",
    "    plt.ylim(int(np.amin(historia_del_sistema[:,:,1]))-1,int(np.amax(historia_del_sistema[:,:,1]))+1)\n",
    "    plt.xlabel('X')\n",
    "    plt.ylabel('Y')\n",
    "    color = np.arange(len(historia_del_sistema[:,tf,0]))\n",
    "    plt.title('Evolución del Sistema')\n",
    "    plt.scatter(historia_del_sistema[:,tf,0], historia_del_sistema[:,tf,1], linewidth=2, c = color)\n",
    "    plt.grid()\n",
    "    \n",
    "    plt.show()\n",
    "\n"
   ]
  },
  {
   "cell_type": "code",
   "execution_count": 39,
   "metadata": {
    "collapsed": true
   },
   "outputs": [],
   "source": [
    "#PARTICULAS \n",
    "\n",
    "N = 100\n",
    "\n",
    "#Posicion\n",
    "x_posiciones = np.random.random(N)\n",
    "y_posiciones = np.random.random(N)\n",
    "\n",
    "#velocidad\n",
    "x_velocidades = np.random.random(N)\n",
    "y_velocidades = np.random.random(N)\n",
    "\n",
    "#masa\n",
    "\n",
    "masas = np.random.random(N)\n",
    "\n",
    "#constantes de tiempo e iteraciones\n",
    "\n",
    "dt = 0.05\n",
    "k = 400\n",
    "\n",
    "#PROGRAMA\n",
    "\n",
    "historia_del_sistema = euler(H, x_posiciones, y_posiciones, x_velocidades, y_velocidades, masas, dt, k)\n",
    "\n",
    "\n"
   ]
  },
  {
   "cell_type": "code",
   "execution_count": 40,
   "metadata": {},
   "outputs": [
    {
     "name": "stderr",
     "output_type": "stream",
     "text": [
      "C:\\Users\\Max\\Anaconda3\\lib\\site-packages\\traitlets\\traitlets.py:567: FutureWarning: comparison to `None` will result in an elementwise object comparison in the future.\n",
      "  silent = bool(old_value == new_value)\n"
     ]
    },
    {
     "data": {
      "application/vnd.jupyter.widget-view+json": {
       "model_id": "560de1bd762f4fd8a83312b635af6ae7"
      }
     },
     "metadata": {},
     "output_type": "display_data"
    },
    {
     "data": {
      "text/plain": [
       "<function __main__.graficar>"
      ]
     },
     "execution_count": 40,
     "metadata": {},
     "output_type": "execute_result"
    }
   ],
   "source": [
    "dp = 1\n",
    "widgets.interact(graficar,historia_del_sistema=widgets.fixed(historia_del_sistema),tf=(0,k,dp))"
   ]
  },
  {
   "cell_type": "code",
   "execution_count": 4,
   "metadata": {},
   "outputs": [
    {
     "name": "stdout",
     "output_type": "stream",
     "text": [
      "10 loops, best of 3: 6.02 s per loop\n"
     ]
    }
   ],
   "source": [
    "#2 ANÁLISIS DEL TIEMPO\n",
    "\n",
    "t1 = %timeit -o -n 10 euler(H, x_posiciones, y_posiciones, x_velocidades, y_velocidades, masas,dt,k)"
   ]
  },
  {
   "cell_type": "code",
   "execution_count": 5,
   "metadata": {},
   "outputs": [
    {
     "name": "stdout",
     "output_type": "stream",
     "text": [
      "\n",
      "Tiempo de Compilación:\n",
      "7.389219391765021e-05\n",
      "\n",
      "Peor Tiempo:\n",
      "6.3639593306710704\n",
      "\n",
      "Mejor Tiempo:\n",
      "6.015589821802987\n"
     ]
    }
   ],
   "source": [
    "print(\"\\nTiempo de Compilación:\")\n",
    "print(t1.compile_time)\n",
    "\n",
    "print(\"\\nPeor Tiempo:\")\n",
    "print(t1.worst)\n",
    "\n",
    "print(\"\\nMejor Tiempo:\")\n",
    "print(t1.best)\n",
    "\n",
    "\n"
   ]
  },
  {
   "cell_type": "code",
   "execution_count": 6,
   "metadata": {},
   "outputs": [
    {
     "name": "stdout",
     "output_type": "stream",
     "text": [
      " \n",
      "*** Profile printout saved to text file 'prun0'. \n"
     ]
    }
   ],
   "source": [
    "#Analizamos El programa.\n",
    "\n",
    "%prun -s tottime -q -l 15 -T prun0 euler(H, x_posiciones, y_posiciones, x_velocidades, y_velocidades, masas, dt, k)\n"
   ]
  },
  {
   "cell_type": "code",
   "execution_count": 7,
   "metadata": {},
   "outputs": [
    {
     "name": "stdout",
     "output_type": "stream",
     "text": [
      "         200208 function calls in 5.959 seconds\n",
      "\n",
      "   Ordered by: internal time\n",
      "\n",
      "   ncalls  tottime  percall  cumtime  percall filename:lineno(function)\n",
      "    80000    5.865    0.000    5.869    0.000 <ipython-input-1-2c3d60891266>:14(H)\n",
      "        1    0.077    0.077    5.958    5.958 <ipython-input-1-2c3d60891266>:28(euler)\n",
      "        1    0.009    0.009    0.009    0.009 {built-in method numpy.core.multiarray.array}\n",
      "    80001    0.004    0.000    0.004    0.000 {built-in method builtins.len}\n",
      "    40200    0.003    0.000    0.003    0.000 {method 'append' of 'list' objects}\n",
      "        1    0.001    0.001    5.959    5.959 <string>:1(<module>)\n",
      "        1    0.000    0.000    5.959    5.959 {built-in method builtins.exec}\n",
      "        2    0.000    0.000    0.000    0.000 cycler.py:227(<genexpr>)\n",
      "        1    0.000    0.000    0.000    0.000 {method 'disable' of '_lsprof.Profiler' objects}\n"
     ]
    }
   ],
   "source": [
    "print(open('prun0', 'r').read())"
   ]
  },
  {
   "cell_type": "code",
   "execution_count": 8,
   "metadata": {},
   "outputs": [
    {
     "name": "stdout",
     "output_type": "stream",
     "text": [
      "\n",
      "*** Profile printout saved to text file 'lprof'. \n"
     ]
    }
   ],
   "source": [
    "#Se puede apreciar del listado anterior que el mayor tiempo acumulado está presente en la función \"euler\",\n",
    "#pero esta función corresponde a nuestro programa completo, y podemos ver que la función que ocupa la mayor parte del tiempo\n",
    "#asociado a la función \"euler\" es la función \"H\" (por lejos). Para Optimizar el códido debemos analizar y arreglar ésta función.\n",
    "\n",
    "#Haremos un line profiling.\n",
    "\n",
    "%lprun -T lprof -f H H(x_posiciones[0], x_posiciones, masas)"
   ]
  },
  {
   "cell_type": "code",
   "execution_count": 9,
   "metadata": {},
   "outputs": [
    {
     "name": "stdout",
     "output_type": "stream",
     "text": [
      "Timer unit: 2.92064e-07 s\n",
      "\n",
      "Total time: 0.000216711 s\n",
      "File: <ipython-input-1-2c3d60891266>\n",
      "Function: H at line 14\n",
      "\n",
      "Line #      Hits         Time  Per Hit   % Time  Line Contents\n",
      "==============================================================\n",
      "    14                                           def H(componente_posicion, componente_posiciones, masas):\n",
      "    15         1            5      5.0      0.7      G = 6.67300e-11\n",
      "    16         1            3      3.0      0.4      suma = 0\n",
      "    17                                               \n",
      "    18       101          140      1.4     18.9      for i in range(len(componente_posiciones)):\n",
      "    19                                                   \n",
      "    20       100          181      1.8     24.4          if (componente_posiciones[i] != componente_posicion):\n",
      "    21        99          409      4.1     55.1              suma += masas[i]/((componente_posiciones[i] - componente_posicion)**2)\n",
      "    22                                               \n",
      "    23         1            4      4.0      0.5      return G*suma\n"
     ]
    }
   ],
   "source": [
    "print(open('lprof', 'r').read())"
   ]
  },
  {
   "cell_type": "code",
   "execution_count": 24,
   "metadata": {
    "collapsed": true
   },
   "outputs": [],
   "source": [
    "#Podemos ver que más del 50% del tiempo está asociado a la línea 30, lo cual tiene sentido ya que corresponde al cálculo\n",
    "#más complejo de toda la función. Otro factor que también inluye es el cálculo constante del porte del arreglo en la línea 27\n",
    "#por medio de la función len, que al incrementar las iteraciones empieza claramente a acumularse y de manera bastante\n",
    "#innecesaria. También Podemos Notar que la línea del \"if\" que busca que se excluya al elemento especificado en la suma\n",
    "#al aumentar las iteraciones empieza a tomar bastante tiempo, considerando que esta pregunta solo es válida para cuando\n",
    "#aún no nos hemos topado con tal número, una vez que ya se encontró tal número y se excluyó de la suma no es necesario\n",
    "#seguir preguntado.\n",
    "\n",
    "#Intentaremos resolver estos problemas utilizando las optimizaciones de \"numba\" y calculando el largo del arreglo una sola vez,\n",
    "#guardando el resultado en una sola variable.\n",
    "\n",
    "@numba.jit('float64 (float64,float64[:],float64[:])', nopython=True)\n",
    "def H2(componente_posicion, componente_posiciones, masas):\n",
    "    G = 6.67300e-11\n",
    "    suma = 0\n",
    "    total_posiciones = len(componente_posiciones)\n",
    "    \n",
    "    for i in range(total_posiciones):\n",
    "        if(componente_posiciones[i] == componente_posicion):\n",
    "            ultimo_indice = i + 1\n",
    "            break\n",
    "        suma += masas[i]/((componente_posiciones[i] - componente_posicion)**2)\n",
    "    \n",
    "    \n",
    "    for j in range(ultimo_indice, total_posiciones):\n",
    "        suma += masas[j]/((componente_posiciones[j] - componente_posicion)**2)\n",
    "    \n",
    "    return G*suma"
   ]
  },
  {
   "cell_type": "code",
   "execution_count": 25,
   "metadata": {},
   "outputs": [
    {
     "name": "stdout",
     "output_type": "stream",
     "text": [
      "\n",
      "*** Profile printout saved to text file 'lprof2'. \n",
      "\n",
      "*** Profile printout saved to text file 'lprof3'. \n",
      " \n",
      "*** Profile printout saved to text file 'prun1'. \n"
     ]
    }
   ],
   "source": [
    "#Resultados\n",
    "\n",
    "%lprun -T lprof2 -f H2 H2(x_posiciones[0], x_posiciones, masas)\n",
    "\n",
    "%lprun -T lprof3 -f H2 H2(x_posiciones[50], x_posiciones, masas)\n",
    "\n",
    "%prun -s tottime -q -l 15 -T prun1 euler(H2, x_posiciones, y_posiciones, x_velocidades, y_velocidades, masas, dt, k)"
   ]
  },
  {
   "cell_type": "code",
   "execution_count": 12,
   "metadata": {},
   "outputs": [
    {
     "name": "stdout",
     "output_type": "stream",
     "text": [
      "Timer unit: 2.92064e-07 s\n",
      "\n",
      "Total time: 0 s\n",
      "File: <ipython-input-10-471748d07aa1>\n",
      "Function: H at line 12\n",
      "\n",
      "Line #      Hits         Time  Per Hit   % Time  Line Contents\n",
      "==============================================================\n",
      "    12                                           @numba.jit('float64 (float64,float64[:],float64[:])', nopython=True)\n",
      "    13                                           def H(componente_posicion, componente_posiciones, masas):\n",
      "    14                                               G = 6.67300e-11\n",
      "    15                                               suma = 0\n",
      "    16                                               total_posiciones = len(componente_posiciones)\n",
      "    17                                               \n",
      "    18                                               for i in range(total_posiciones):\n",
      "    19                                                   if(componente_posiciones[i] == componente_posicion):\n",
      "    20                                                       ultimo_indice = i + 1\n",
      "    21                                                       break\n",
      "    22                                                   suma += masas[i]/((componente_posiciones[i] - componente_posicion)**2)\n",
      "    23                                               \n",
      "    24                                               \n",
      "    25                                               for j in range(ultimo_indice, total_posiciones):\n",
      "    26                                                   suma += masas[j]/((componente_posiciones[j] - componente_posicion)**2)\n",
      "    27                                               \n",
      "    28                                               return G*suma\n",
      "\n",
      "\n",
      "Timer unit: 2.92064e-07 s\n",
      "\n",
      "Total time: 0 s\n",
      "File: <ipython-input-10-471748d07aa1>\n",
      "Function: H at line 12\n",
      "\n",
      "Line #      Hits         Time  Per Hit   % Time  Line Contents\n",
      "==============================================================\n",
      "    12                                           @numba.jit('float64 (float64,float64[:],float64[:])', nopython=True)\n",
      "    13                                           def H(componente_posicion, componente_posiciones, masas):\n",
      "    14                                               G = 6.67300e-11\n",
      "    15                                               suma = 0\n",
      "    16                                               total_posiciones = len(componente_posiciones)\n",
      "    17                                               \n",
      "    18                                               for i in range(total_posiciones):\n",
      "    19                                                   if(componente_posiciones[i] == componente_posicion):\n",
      "    20                                                       ultimo_indice = i + 1\n",
      "    21                                                       break\n",
      "    22                                                   suma += masas[i]/((componente_posiciones[i] - componente_posicion)**2)\n",
      "    23                                               \n",
      "    24                                               \n",
      "    25                                               for j in range(ultimo_indice, total_posiciones):\n",
      "    26                                                   suma += masas[j]/((componente_posiciones[j] - componente_posicion)**2)\n",
      "    27                                               \n",
      "    28                                               return G*suma\n"
     ]
    }
   ],
   "source": [
    "print(open('lprof2', 'r').read())\n",
    "\n",
    "print (\"\")\n",
    "print (\"\")\n",
    "print(open('lprof3', 'r').read())"
   ]
  },
  {
   "cell_type": "code",
   "execution_count": 13,
   "metadata": {},
   "outputs": [
    {
     "name": "stdout",
     "output_type": "stream",
     "text": [
      "         120218 function calls in 0.261 seconds\n",
      "\n",
      "   Ordered by: internal time\n",
      "   List reduced from 17 to 15 due to restriction <15>\n",
      "\n",
      "   ncalls  tottime  percall  cumtime  percall filename:lineno(function)\n",
      "        1    0.168    0.168    0.260    0.260 <ipython-input-1-2c3d60891266>:28(euler)\n",
      "    80000    0.080    0.000    0.080    0.000 <ipython-input-10-471748d07aa1>:12(H)\n",
      "        1    0.009    0.009    0.009    0.009 {built-in method numpy.core.multiarray.array}\n",
      "    40200    0.002    0.000    0.002    0.000 {method 'append' of 'list' objects}\n",
      "        1    0.001    0.001    0.261    0.261 <string>:1(<module>)\n",
      "        1    0.000    0.000    0.000    0.000 module.py:66(_dispose)\n",
      "        1    0.000    0.000    0.261    0.261 {built-in method builtins.exec}\n",
      "        1    0.000    0.000    0.000    0.000 llvmthreadsafe.py:45(_ts_dispose)\n",
      "        1    0.000    0.000    0.000    0.000 llvmthreadsafe.py:20(__enter__)\n",
      "        2    0.000    0.000    0.000    0.000 ffi.py:119(close)\n",
      "        1    0.000    0.000    0.000    0.000 llvmthreadsafe.py:23(__exit__)\n",
      "        2    0.000    0.000    0.000    0.000 ffi.py:129(detach)\n",
      "        2    0.000    0.000    0.000    0.000 ffi.py:162(__del__)\n",
      "        1    0.000    0.000    0.000    0.000 {method 'acquire' of '_thread.RLock' objects}\n",
      "        1    0.000    0.000    0.000    0.000 {built-in method builtins.len}\n"
     ]
    }
   ],
   "source": [
    "print(open('prun1', 'r').read())"
   ]
  },
  {
   "cell_type": "code",
   "execution_count": 43,
   "metadata": {},
   "outputs": [
    {
     "name": "stdout",
     "output_type": "stream",
     "text": [
      "10 loops, best of 3: 132 ms per loop\n"
     ]
    }
   ],
   "source": [
    "#Podemos ver que el tiempo disminuyó considerablemente.\n",
    "#Calculamos la razón de rendimiento obtenida\n",
    "t2 = %timeit -o -n 10 euler(H2, x_posiciones, y_posiciones, x_velocidades, y_velocidades, masas, dt, k)\n"
   ]
  },
  {
   "cell_type": "code",
   "execution_count": 44,
   "metadata": {},
   "outputs": [
    {
     "name": "stdout",
     "output_type": "stream",
     "text": [
      "Mejora obtenida:\n",
      "45.71228088007854\n"
     ]
    }
   ],
   "source": [
    "print(\"Mejora obtenida:\")\n",
    "print(t1.best/t2.best)"
   ]
  },
  {
   "cell_type": "code",
   "execution_count": 41,
   "metadata": {
    "collapsed": true
   },
   "outputs": [],
   "source": [
    "historia_del_sistema2 = euler(H2, x_posiciones, y_posiciones, x_velocidades, y_velocidades, masas, dt, k)"
   ]
  },
  {
   "cell_type": "code",
   "execution_count": 42,
   "metadata": {},
   "outputs": [
    {
     "name": "stdout",
     "output_type": "stream",
     "text": [
      "[[[ True  True]\n",
      "  [ True  True]\n",
      "  [ True  True]\n",
      "  ..., \n",
      "  [ True  True]\n",
      "  [ True  True]\n",
      "  [ True  True]]\n",
      "\n",
      " [[ True  True]\n",
      "  [ True  True]\n",
      "  [ True  True]\n",
      "  ..., \n",
      "  [ True  True]\n",
      "  [ True  True]\n",
      "  [ True  True]]\n",
      "\n",
      " [[ True  True]\n",
      "  [ True  True]\n",
      "  [ True  True]\n",
      "  ..., \n",
      "  [ True  True]\n",
      "  [ True  True]\n",
      "  [ True  True]]\n",
      "\n",
      " ..., \n",
      " [[ True  True]\n",
      "  [ True  True]\n",
      "  [ True  True]\n",
      "  ..., \n",
      "  [ True  True]\n",
      "  [ True  True]\n",
      "  [ True  True]]\n",
      "\n",
      " [[ True  True]\n",
      "  [ True  True]\n",
      "  [ True  True]\n",
      "  ..., \n",
      "  [ True  True]\n",
      "  [ True  True]\n",
      "  [ True  True]]\n",
      "\n",
      " [[ True  True]\n",
      "  [ True  True]\n",
      "  [ True  True]\n",
      "  ..., \n",
      "  [ True  True]\n",
      "  [ True  True]\n",
      "  [ True  True]]]\n"
     ]
    }
   ],
   "source": [
    "print (historia_del_sistema== historia_del_sistema2)"
   ]
  },
  {
   "cell_type": "code",
   "execution_count": null,
   "metadata": {
    "collapsed": true
   },
   "outputs": [],
   "source": []
  }
 ],
 "metadata": {
  "kernelspec": {
   "display_name": "Python 3",
   "language": "python",
   "name": "python3"
  },
  "language_info": {
   "codemirror_mode": {
    "name": "ipython",
    "version": 3
   },
   "file_extension": ".py",
   "mimetype": "text/x-python",
   "name": "python",
   "nbconvert_exporter": "python",
   "pygments_lexer": "ipython3",
   "version": "3.6.1"
  }
 },
 "nbformat": 4,
 "nbformat_minor": 2
}
